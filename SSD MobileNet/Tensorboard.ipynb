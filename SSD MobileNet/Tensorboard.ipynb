{
 "cells": [
  {
   "cell_type": "markdown",
   "id": "3c2df843-886e-4a7f-8e60-0cd72b79e477",
   "metadata": {},
   "source": [
    "## Tensorboard\n",
    "Let's see our graphical representation of all train and eval data and also the prediction that has been done by the model in the images section of tensorboard."
   ]
  },
  {
   "cell_type": "markdown",
   "id": "6f4266e3-27ec-4369-8ccd-86cb05f1da12",
   "metadata": {},
   "source": [
    "### Setting model path"
   ]
  },
  {
   "cell_type": "code",
   "execution_count": 1,
   "id": "3506c358-7b0f-4cdf-a031-009de4763fcb",
   "metadata": {},
   "outputs": [],
   "source": [
    "CUSTOM_MODEL_NAME = 'birds_ssd_mobnet'"
   ]
  },
  {
   "cell_type": "markdown",
   "id": "77d90335-3730-48d5-b825-7ee57bba3e43",
   "metadata": {},
   "source": [
    "The code below will run the tensorboard which can be seen in the localhost 6006."
   ]
  },
  {
   "cell_type": "code",
   "execution_count": 2,
   "id": "939c3054-36b8-42be-9cce-7e26bb3cbefd",
   "metadata": {},
   "outputs": [
    {
     "name": "stdout",
     "output_type": "stream",
     "text": [
      "2022-01-04 22:39:44.759233: I tensorflow/stream_executor/platform/default/dso_loader.cc:53] Successfully opened dynamic library libcudart.so.11.0\n",
      "\n",
      "NOTE: Using experimental fast data loading logic. To disable, pass\n",
      "    \"--load_fast=false\" and report issues on GitHub. More details:\n",
      "    https://github.com/tensorflow/tensorboard/issues/4784\n",
      "\n",
      "Serving TensorBoard on localhost; to expose to the network, use a proxy or pass --bind_all\n",
      "TensorBoard 2.6.0 at http://localhost:6006/ (Press CTRL+C to quit)\n",
      "^C\n"
     ]
    }
   ],
   "source": [
    "!tensorboard --logdir=Tensorflow/workspace/models/{CUSTOM_MODEL_NAME}/"
   ]
  },
  {
   "cell_type": "code",
   "execution_count": null,
   "id": "bb730818-a42e-4893-b94a-ea7045fad4e1",
   "metadata": {},
   "outputs": [],
   "source": []
  }
 ],
 "metadata": {
  "kernelspec": {
   "display_name": "Python 3",
   "language": "python",
   "name": "python3"
  },
  "language_info": {
   "codemirror_mode": {
    "name": "ipython",
    "version": 3
   },
   "file_extension": ".py",
   "mimetype": "text/x-python",
   "name": "python",
   "nbconvert_exporter": "python",
   "pygments_lexer": "ipython3",
   "version": "3.8.11"
  }
 },
 "nbformat": 4,
 "nbformat_minor": 5
}
